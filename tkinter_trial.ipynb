{
 "cells": [
  {
   "cell_type": "code",
   "execution_count": 1,
   "metadata": {},
   "outputs": [],
   "source": [
    "import tkinter as tk"
   ]
  },
  {
   "cell_type": "code",
   "execution_count": 2,
   "metadata": {},
   "outputs": [],
   "source": [
    "# initiates a GUI window\n",
    "window = tk.Tk()\n",
    "\n",
    "# opens the window in a separate tab. Needs to be closed in order to proceed further\n",
    "# window.mainloop()\n",
    "\n",
    "# changing the dimensions of the GUI window\n",
    "window.geometry('300x400') # widthxheight format is to be used. Remember to use x instead of *\n",
    "window.title(\"My first program\")\n",
    "# window.mainloop()\n",
    "\n",
    "# setting icon for GUI\n",
    "icon = tk.PhotoImage(file='C:/Users/YASH/OneDrive/Pictures/baloons.png')\n",
    "window.iconphoto(True, icon)  # it should alwys be set to true. Else error\n",
    "window.config(background='#e3c85d')\n",
    "window.mainloop()"
   ]
  },
  {
   "cell_type": "markdown",
   "metadata": {},
   "source": [
    "### Widget in Tkinter\n",
    "\n",
    "- Label: Displays text or images in window\n",
    "- Button: Triggers a function or event when clicked\n",
    "- Entry: Single line text input field\n",
    "- Text: Multi line text input filed\n",
    "- Frame: Container to organize widgets\n",
    "- Canvas: Draw shapes, images, complex layouts\n",
    "- Checkbutton: checkbox (bool - true or false)\n",
    "- Radiobutton: Selection of just one option\n",
    "- Listbox: Displays list of selectable items\n",
    "- Scrollbar: Scrolling mechanism especially for text boxes\n",
    "- Scale: Slider for selecting numeric value within a range\n",
    "- Spinbox: Selection of number from fixed range using arrows\n",
    "- Menu: Drop down for navigation and options\n",
    "- Messages: Displays multiline text with automatic wrapping"
   ]
  },
  {
   "cell_type": "code",
   "execution_count": 3,
   "metadata": {},
   "outputs": [],
   "source": [
    "# Label\n",
    "window = tk.Tk()\n",
    "# photo = tk.PhotoImage(\"C:/Users/YASH/OneDrive/Pictures/Wallpapers/mumbai1.jpg\") \n",
    "photo = tk.PhotoImage(file='C:/Users/YASH/OneDrive/Pictures/yellowcar.png') \n",
    "label = tk.Label(window, text = \"Car\", # text inside the label\n",
    "                 font=('Sans Serif', 36, 'bold'), # font, size and style\n",
    "                 fg = '#344531', # font color\n",
    "                 background=\"#e3c85d\", # background color\n",
    "                 relief= \"raised\", # border style of widget\n",
    "                 bd = 5, # border density\n",
    "                 padx= 5, # x coordinate padding\n",
    "                 pady = 5, # y coordinate padding\n",
    "                 image=photo,\n",
    "                 compound=\"bottom\") # location of compound \n",
    "label.pack()\n",
    "window.mainloop()"
   ]
  },
  {
   "cell_type": "code",
   "execution_count": 5,
   "metadata": {},
   "outputs": [],
   "source": [
    "# Button, Entry and Text Widget\n",
    "count = 0\n",
    "def on_button_click():\n",
    "    global count\n",
    "    count += 1\n",
    "    label.config(text = f\"Button clicked {count} times!\")\n",
    "\n",
    "window = tk.Tk()\n",
    "label = tk.Label(window)\n",
    "label.pack()\n",
    "button = tk.Button(window, text=\"Click Me\", command=on_button_click)\n",
    "button.config(font=('Ink Free', 30, 'bold'))\n",
    "button.config(fg = 'red')\n",
    "button.config(bg = 'yellow')\n",
    "button.pack(pady=20) # adds padding to button in GUI\n",
    "button.pack()\n",
    "window.mainloop()"
   ]
  },
  {
   "cell_type": "code",
   "execution_count": null,
   "metadata": {},
   "outputs": [],
   "source": [
    "# Entry widget is a single line text input field\n",
    "def print_on_terminal():\n",
    "    user = entry1.get()\n",
    "    pw = entry2.get()\n",
    "    return user, pw\n",
    "\n",
    "window = tk.Tk()\n",
    "window.title(\"Login\")\n",
    "window.geometry(\"300x200\")\n",
    "\n",
    "label1 = tk.Label(window, text = \"Username\")\n",
    "label2 = tk.Label(window, text = \"Password\")\n",
    "label1.place(x = 10, y = 20)  # placing the contents at correct locations\n",
    "label2.place(x = 10, y = 60)\n",
    "\n",
    "entry1 = tk.Entry(window)\n",
    "entry2 = tk.Entry(window, show = '*')\n",
    "entry1.place(x = 100, y = 20)\n",
    "entry2.place(x = 100, y = 60)\n",
    "\n",
    "submit_button = tk.Button(window, text=\"Submit\", command= print_on_terminal)\n",
    "submit_button.place(x = 100, y = 100)\n",
    "\n",
    "window.mainloop()"
   ]
  },
  {
   "cell_type": "code",
   "execution_count": 8,
   "metadata": {},
   "outputs": [],
   "source": [
    "# text widget for multiline text input\n",
    "window = tk.Tk()\n",
    "text = tk.Text(window, bg = \"light yellow\", font=(\"Ink Free\", 25), height = 8, width = 20, padx = 20, pady = 20, fg = 'red')\n",
    "text.pack()\n",
    "window.mainloop()"
   ]
  },
  {
   "cell_type": "code",
   "execution_count": 13,
   "metadata": {},
   "outputs": [
    {
     "name": "stdout",
     "output_type": "stream",
     "text": [
      "Python is selected\n",
      "Python is selected\n",
      "Java is selected\n"
     ]
    }
   ],
   "source": [
    "# checkbox is useful to select and deselect options\n",
    "\n",
    "def display_selection():\n",
    "    if x.get() == 1:\n",
    "        print(\"Python is selected\")\n",
    "    else:\n",
    "        print(\"Java is selected\")\n",
    "\n",
    "window = tk.Tk()\n",
    "window.title(\"Checkbox Example\")\n",
    "x = tk.IntVar()\n",
    "y = tk.IntVar()\n",
    "checkbox1 = tk.Checkbutton(window, text = 'Python', variable=x, onvalue=1, offvalue=0, command=display_selection)\n",
    "checkbox1.pack()\n",
    "checkbox1.config(font=('Arial', 15))\n",
    "checkbox1.config(bg = 'yellow')\n",
    "checkbox1.config(fg = \"blue\")\n",
    "\n",
    "checkbox2 = tk.Checkbutton(window, text = 'Java', variable=y, onvalue=1, offvalue=0, command=display_selection)\n",
    "checkbox2.pack()\n",
    "checkbox2.config(font=('Arial', 15))\n",
    "checkbox2.config(bg = 'yellow')\n",
    "checkbox2.config(fg = \"blue\")\n",
    "\n",
    "window.mainloop()"
   ]
  },
  {
   "cell_type": "code",
   "execution_count": null,
   "metadata": {},
   "outputs": [],
   "source": []
  }
 ],
 "metadata": {
  "kernelspec": {
   "display_name": "Python 3",
   "language": "python",
   "name": "python3"
  },
  "language_info": {
   "codemirror_mode": {
    "name": "ipython",
    "version": 3
   },
   "file_extension": ".py",
   "mimetype": "text/x-python",
   "name": "python",
   "nbconvert_exporter": "python",
   "pygments_lexer": "ipython3",
   "version": "3.12.4"
  }
 },
 "nbformat": 4,
 "nbformat_minor": 2
}
